{
 "cells": [
  {
   "cell_type": "code",
   "execution_count": 44,
   "metadata": {},
   "outputs": [],
   "source": [
    "import sys\n",
    "import os\n",
    "import numpy as np\n",
    "\n",
    "from game.gamerules import Board\n",
    "from classes.state import State\n",
    "from classes.player import MyPlayer, RNGPlayer\n",
    "from utils import play_game"
   ]
  },
  {
   "cell_type": "code",
   "execution_count": 45,
   "metadata": {},
   "outputs": [],
   "source": [
    "rng_player = RNGPlayer()\n",
    "player = MyPlayer()\n",
    "\n",
    "players = [player, rng_player]"
   ]
  },
  {
   "cell_type": "code",
   "execution_count": 76,
   "metadata": {},
   "outputs": [
    {
     "name": "stdout",
     "output_type": "stream",
     "text": [
      "p1_wins: 405\n",
      "p2_wins: 410\n",
      "draws: 185\n"
     ]
    }
   ],
   "source": [
    "p1_wins = 0\n",
    "p2_wins = 0\n",
    "draws = 0\n",
    "\n",
    "for i in range(500):\n",
    "    won1, _ = play_game(player, rng_player)\n",
    "    won2, _ = play_game(rng_player, player)\n",
    "\n",
    "    if won1 == 1:\n",
    "        p1_wins += 1\n",
    "    elif won1 == -1:\n",
    "        p2_wins += 1\n",
    "    else:\n",
    "        draws += 1\n",
    "\n",
    "    if won2 == 1:\n",
    "        p2_wins += 1\n",
    "    elif won2 == -1:\n",
    "        p1_wins += 1\n",
    "    else:\n",
    "        draws += 1\n",
    "\n",
    "print(f\"p1_wins: {p1_wins}\")\n",
    "print(f\"p2_wins: {p2_wins}\")\n",
    "print(f\"draws: {draws}\")"
   ]
  }
 ],
 "metadata": {
  "kernelspec": {
   "display_name": "dl",
   "language": "python",
   "name": "python3"
  },
  "language_info": {
   "codemirror_mode": {
    "name": "ipython",
    "version": 3
   },
   "file_extension": ".py",
   "mimetype": "text/x-python",
   "name": "python",
   "nbconvert_exporter": "python",
   "pygments_lexer": "ipython3",
   "version": "3.10.14"
  }
 },
 "nbformat": 4,
 "nbformat_minor": 2
}
