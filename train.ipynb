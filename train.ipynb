{
 "cells": [
  {
   "cell_type": "code",
   "execution_count": 1,
   "metadata": {},
   "outputs": [],
   "source": [
    "import tensorflow as tf\n",
    "from tensorflow.keras import layers, models\n",
    "import numpy as np"
   ]
  },
  {
   "cell_type": "code",
   "execution_count": 2,
   "metadata": {},
   "outputs": [
    {
     "data": {
      "text/plain": [
       "[PhysicalDevice(name='/physical_device:GPU:0', device_type='GPU')]"
      ]
     },
     "execution_count": 2,
     "metadata": {},
     "output_type": "execute_result"
    }
   ],
   "source": [
    "tf.config.list_physical_devices('GPU')"
   ]
  },
  {
   "cell_type": "code",
   "execution_count": 3,
   "metadata": {},
   "outputs": [],
   "source": [
    "from game.gamerules import Player\n",
    "\n",
    "class MyPlayer(Player):\n",
    "    def __init__(self):\n",
    "        super().__init__(\"Paulius Černius\")\n",
    "\n",
    "    def getAction(self, board, value):\n",
    "        \"\"\" All logic going here \"\"\"\n",
    "        possibleActions = board.getPossibleActions()\n",
    "        return np.random.choice(possibleActions)\n",
    "\n",
    "    def newGame(self, new_opponent):\n",
    "        pass"
   ]
  },
  {
   "cell_type": "code",
   "execution_count": 4,
   "metadata": {},
   "outputs": [],
   "source": [
    "def build_value_network():\n",
    "    model = models.Sequential()\n",
    "    model.add(layers.Input(shape=(6, 7, 3)))\n",
    "    model.add(layers.Conv2D(32, (3, 3), activation='relu', padding='same'))\n",
    "    model.add(layers.Conv2D(64, (3, 3), activation='relu', padding='same'))\n",
    "    model.add(layers.Conv2D(64, (3, 3), activation='relu', padding='same'))\n",
    "    model.add(layers.Flatten())\n",
    "    model.add(layers.Dense(128, activation='relu'))\n",
    "    model.add(layers.Dense(64, activation='relu'))\n",
    "    model.add(layers.Dense(1))\n",
    "    return model"
   ]
  },
  {
   "cell_type": "code",
   "execution_count": 8,
   "metadata": {},
   "outputs": [],
   "source": [
    "learning_rate = 1e-3\n",
    "model = build_value_network()\n",
    "optimizer = tf.keras.optimizers.Adam()\n",
    "loss_function = tf.keras.losses.MeanSquaredError()\n",
    "model.compile(optimizer=optimizer, loss=loss_function, metrics=[tf.keras.metrics.Accuracy()])"
   ]
  },
  {
   "cell_type": "code",
   "execution_count": null,
   "metadata": {},
   "outputs": [],
   "source": [
    "class State:\n",
    "    n = 6\n",
    "    m = 7\n",
    "    def __init__(self, board):\n",
    "        self.hash_val = State.hashBoard(board)\n",
    "\n",
    "    @classmethod\n",
    "    def hashBoard(cls, board):\n",
    "        hashed = \"\"\n",
    "        for i in range(State.n):\n",
    "            for j in range(State.m):\n",
    "                hashed += str(int(board[i, j]) + 1)\n",
    "        return hashed\n",
    "    \n",
    "    @classmethod\n",
    "    def unhashBoard(cls, hashed):\n",
    "        board = np.zeros((State.n, State.m))\n",
    "        for i in range(State.n):\n",
    "            for j in range(State.m):\n",
    "                ind = i * State.m + j \n",
    "                board[i, j] = int(hashed[ind]) - 1\n",
    "        return board"
   ]
  }
 ],
 "metadata": {
  "kernelspec": {
   "display_name": "dl",
   "language": "python",
   "name": "python3"
  },
  "language_info": {
   "codemirror_mode": {
    "name": "ipython",
    "version": 3
   },
   "file_extension": ".py",
   "mimetype": "text/x-python",
   "name": "python",
   "nbconvert_exporter": "python",
   "pygments_lexer": "ipython3",
   "version": "3.10.14"
  }
 },
 "nbformat": 4,
 "nbformat_minor": 2
}
